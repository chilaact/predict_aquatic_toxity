{
  "nbformat": 4,
  "nbformat_minor": 0,
  "metadata": {
    "colab": {
      "name": "predict_aquatic_toxity.ipynb",
      "provenance": [],
      "collapsed_sections": [],
      "include_colab_link": true
    },
    "kernelspec": {
      "name": "python3",
      "display_name": "Python 3"
    },
    "accelerator": "GPU"
  },
  "cells": [
    {
      "cell_type": "markdown",
      "metadata": {
        "id": "view-in-github",
        "colab_type": "text"
      },
      "source": [
        "<a href=\"https://colab.research.google.com/github/chilaact/predict_aquatic_toxity/blob/master/predict_aquatic_toxity.ipynb\" target=\"_parent\"><img src=\"https://colab.research.google.com/assets/colab-badge.svg\" alt=\"Open In Colab\"/></a>"
      ]
    },
    {
      "cell_type": "markdown",
      "metadata": {
        "id": "W5QsI7ZTiNyj",
        "colab_type": "text"
      },
      "source": [
        "# QSAR Aquatic Toxicity Prediction with Simple Neural Networks Using TensorFlow"
      ]
    },
    {
      "cell_type": "markdown",
      "metadata": {
        "id": "7TXqaMLrssmV",
        "colab_type": "text"
      },
      "source": [
        "Mount drive"
      ]
    },
    {
      "cell_type": "code",
      "metadata": {
        "id": "ltt2lHejVcjF",
        "colab_type": "code",
        "outputId": "2e8c7f9d-01d0-4a42-89c6-b8e0f18c5f3f",
        "colab": {
          "base_uri": "https://localhost:8080/",
          "height": 54
        }
      },
      "source": [
        "from google.colab import drive\n",
        "drive.mount('/content/drive')"
      ],
      "execution_count": 70,
      "outputs": [
        {
          "output_type": "stream",
          "text": [
            "Drive already mounted at /content/drive; to attempt to forcibly remount, call drive.mount(\"/content/drive\", force_remount=True).\n"
          ],
          "name": "stdout"
        }
      ]
    },
    {
      "cell_type": "markdown",
      "metadata": {
        "id": "p4muH0qBQ0B9",
        "colab_type": "text"
      },
      "source": [
        "## **Data Preparation**"
      ]
    },
    {
      "cell_type": "markdown",
      "metadata": {
        "id": "YT1Yfr85sx4d",
        "colab_type": "text"
      },
      "source": [
        "Import libraries"
      ]
    },
    {
      "cell_type": "code",
      "metadata": {
        "id": "JK05KEJF0EbO",
        "colab_type": "code",
        "colab": {}
      },
      "source": [
        "from pandas import read_csv\n",
        "from matplotlib import pyplot as plt\n",
        "\n",
        "from sklearn.model_selection import train_test_split\n",
        "\n",
        "from sklearn.neural_network import MLPRegressor\n",
        "from sklearn.linear_model import LinearRegression\n",
        "\n",
        "from sklearn.metrics import mean_squared_error"
      ],
      "execution_count": 0,
      "outputs": []
    },
    {
      "cell_type": "markdown",
      "metadata": {
        "id": "wWTzFHZK0qGc",
        "colab_type": "text"
      },
      "source": [
        "## Load data"
      ]
    },
    {
      "cell_type": "markdown",
      "metadata": {
        "id": "QXFL0FXFtHlP",
        "colab_type": "text"
      },
      "source": [
        "dataset from https://archive.ics.uci.edu/ml/datasets/QSAR+aquatic+toxicity"
      ]
    },
    {
      "cell_type": "code",
      "metadata": {
        "id": "sl1L8U360Sdw",
        "colab_type": "code",
        "outputId": "bbb3ecae-e3b5-4e72-938d-d4cebc4b8c68",
        "colab": {
          "base_uri": "https://localhost:8080/",
          "height": 419
        }
      },
      "source": [
        "data = read_csv(\"/content/drive/My Drive/Colab Notebooks/task/qsar_aquatic_toxicity.csv\", sep=\";\")\n",
        "data"
      ],
      "execution_count": 72,
      "outputs": [
        {
          "output_type": "execute_result",
          "data": {
            "text/html": [
              "<div>\n",
              "<style scoped>\n",
              "    .dataframe tbody tr th:only-of-type {\n",
              "        vertical-align: middle;\n",
              "    }\n",
              "\n",
              "    .dataframe tbody tr th {\n",
              "        vertical-align: top;\n",
              "    }\n",
              "\n",
              "    .dataframe thead th {\n",
              "        text-align: right;\n",
              "    }\n",
              "</style>\n",
              "<table border=\"1\" class=\"dataframe\">\n",
              "  <thead>\n",
              "    <tr style=\"text-align: right;\">\n",
              "      <th></th>\n",
              "      <th>0</th>\n",
              "      <th>0.1</th>\n",
              "      <th>0.2</th>\n",
              "      <th>2.419</th>\n",
              "      <th>1.225</th>\n",
              "      <th>0.667</th>\n",
              "      <th>0.3</th>\n",
              "      <th>0.4</th>\n",
              "      <th>3.740</th>\n",
              "    </tr>\n",
              "  </thead>\n",
              "  <tbody>\n",
              "    <tr>\n",
              "      <th>0</th>\n",
              "      <td>0.00</td>\n",
              "      <td>0.000</td>\n",
              "      <td>0</td>\n",
              "      <td>2.638</td>\n",
              "      <td>1.401</td>\n",
              "      <td>0.632</td>\n",
              "      <td>0</td>\n",
              "      <td>0</td>\n",
              "      <td>4.330</td>\n",
              "    </tr>\n",
              "    <tr>\n",
              "      <th>1</th>\n",
              "      <td>9.23</td>\n",
              "      <td>11.000</td>\n",
              "      <td>0</td>\n",
              "      <td>5.799</td>\n",
              "      <td>2.930</td>\n",
              "      <td>0.486</td>\n",
              "      <td>0</td>\n",
              "      <td>0</td>\n",
              "      <td>7.019</td>\n",
              "    </tr>\n",
              "    <tr>\n",
              "      <th>2</th>\n",
              "      <td>9.23</td>\n",
              "      <td>11.000</td>\n",
              "      <td>0</td>\n",
              "      <td>5.453</td>\n",
              "      <td>2.887</td>\n",
              "      <td>0.495</td>\n",
              "      <td>0</td>\n",
              "      <td>0</td>\n",
              "      <td>6.723</td>\n",
              "    </tr>\n",
              "    <tr>\n",
              "      <th>3</th>\n",
              "      <td>9.23</td>\n",
              "      <td>11.000</td>\n",
              "      <td>0</td>\n",
              "      <td>4.068</td>\n",
              "      <td>2.758</td>\n",
              "      <td>0.695</td>\n",
              "      <td>0</td>\n",
              "      <td>0</td>\n",
              "      <td>5.979</td>\n",
              "    </tr>\n",
              "    <tr>\n",
              "      <th>4</th>\n",
              "      <td>215.34</td>\n",
              "      <td>327.629</td>\n",
              "      <td>3</td>\n",
              "      <td>0.189</td>\n",
              "      <td>4.677</td>\n",
              "      <td>1.333</td>\n",
              "      <td>0</td>\n",
              "      <td>4</td>\n",
              "      <td>6.064</td>\n",
              "    </tr>\n",
              "    <tr>\n",
              "      <th>...</th>\n",
              "      <td>...</td>\n",
              "      <td>...</td>\n",
              "      <td>...</td>\n",
              "      <td>...</td>\n",
              "      <td>...</td>\n",
              "      <td>...</td>\n",
              "      <td>...</td>\n",
              "      <td>...</td>\n",
              "      <td>...</td>\n",
              "    </tr>\n",
              "    <tr>\n",
              "      <th>540</th>\n",
              "      <td>24.06</td>\n",
              "      <td>35.776</td>\n",
              "      <td>2</td>\n",
              "      <td>3.326</td>\n",
              "      <td>2.837</td>\n",
              "      <td>0.849</td>\n",
              "      <td>2</td>\n",
              "      <td>0</td>\n",
              "      <td>4.651</td>\n",
              "    </tr>\n",
              "    <tr>\n",
              "      <th>541</th>\n",
              "      <td>9.23</td>\n",
              "      <td>11.000</td>\n",
              "      <td>0</td>\n",
              "      <td>3.275</td>\n",
              "      <td>2.727</td>\n",
              "      <td>0.874</td>\n",
              "      <td>0</td>\n",
              "      <td>0</td>\n",
              "      <td>3.953</td>\n",
              "    </tr>\n",
              "    <tr>\n",
              "      <th>542</th>\n",
              "      <td>0.00</td>\n",
              "      <td>0.000</td>\n",
              "      <td>0</td>\n",
              "      <td>5.165</td>\n",
              "      <td>3.111</td>\n",
              "      <td>0.732</td>\n",
              "      <td>0</td>\n",
              "      <td>0</td>\n",
              "      <td>6.219</td>\n",
              "    </tr>\n",
              "    <tr>\n",
              "      <th>543</th>\n",
              "      <td>13.14</td>\n",
              "      <td>9.507</td>\n",
              "      <td>0</td>\n",
              "      <td>2.859</td>\n",
              "      <td>2.614</td>\n",
              "      <td>0.827</td>\n",
              "      <td>0</td>\n",
              "      <td>0</td>\n",
              "      <td>4.995</td>\n",
              "    </tr>\n",
              "    <tr>\n",
              "      <th>544</th>\n",
              "      <td>0.00</td>\n",
              "      <td>0.000</td>\n",
              "      <td>0</td>\n",
              "      <td>2.255</td>\n",
              "      <td>1.800</td>\n",
              "      <td>0.917</td>\n",
              "      <td>0</td>\n",
              "      <td>0</td>\n",
              "      <td>2.480</td>\n",
              "    </tr>\n",
              "  </tbody>\n",
              "</table>\n",
              "<p>545 rows × 9 columns</p>\n",
              "</div>"
            ],
            "text/plain": [
              "          0      0.1  0.2  2.419  1.225  0.667  0.3  0.4  3.740\n",
              "0      0.00    0.000    0  2.638  1.401  0.632    0    0  4.330\n",
              "1      9.23   11.000    0  5.799  2.930  0.486    0    0  7.019\n",
              "2      9.23   11.000    0  5.453  2.887  0.495    0    0  6.723\n",
              "3      9.23   11.000    0  4.068  2.758  0.695    0    0  5.979\n",
              "4    215.34  327.629    3  0.189  4.677  1.333    0    4  6.064\n",
              "..      ...      ...  ...    ...    ...    ...  ...  ...    ...\n",
              "540   24.06   35.776    2  3.326  2.837  0.849    2    0  4.651\n",
              "541    9.23   11.000    0  3.275  2.727  0.874    0    0  3.953\n",
              "542    0.00    0.000    0  5.165  3.111  0.732    0    0  6.219\n",
              "543   13.14    9.507    0  2.859  2.614  0.827    0    0  4.995\n",
              "544    0.00    0.000    0  2.255  1.800  0.917    0    0  2.480\n",
              "\n",
              "[545 rows x 9 columns]"
            ]
          },
          "metadata": {
            "tags": []
          },
          "execution_count": 72
        }
      ]
    },
    {
      "cell_type": "code",
      "metadata": {
        "id": "1i9GtNL9nupj",
        "colab_type": "code",
        "colab": {
          "base_uri": "https://localhost:8080/",
          "height": 419
        },
        "outputId": "b675f81e-3bf7-4a68-f384-6cb2ffc9ef52"
      },
      "source": [
        "#Looks like the data dont have header, reload it with header\n",
        "data = read_csv(\"/content/drive/My Drive/Colab Notebooks/task/qsar_aquatic_toxicity.csv\", sep=\";\", \n",
        "                   names=['TPSA', 'SAacc', 'H-050', 'MLOGP', 'RDCHI', 'GATS1p', 'nN', 'C-040',\n",
        "                          'quantitative response']) #from UCI web\n",
        "data"
      ],
      "execution_count": 73,
      "outputs": [
        {
          "output_type": "execute_result",
          "data": {
            "text/html": [
              "<div>\n",
              "<style scoped>\n",
              "    .dataframe tbody tr th:only-of-type {\n",
              "        vertical-align: middle;\n",
              "    }\n",
              "\n",
              "    .dataframe tbody tr th {\n",
              "        vertical-align: top;\n",
              "    }\n",
              "\n",
              "    .dataframe thead th {\n",
              "        text-align: right;\n",
              "    }\n",
              "</style>\n",
              "<table border=\"1\" class=\"dataframe\">\n",
              "  <thead>\n",
              "    <tr style=\"text-align: right;\">\n",
              "      <th></th>\n",
              "      <th>TPSA</th>\n",
              "      <th>SAacc</th>\n",
              "      <th>H-050</th>\n",
              "      <th>MLOGP</th>\n",
              "      <th>RDCHI</th>\n",
              "      <th>GATS1p</th>\n",
              "      <th>nN</th>\n",
              "      <th>C-040</th>\n",
              "      <th>quantitative response</th>\n",
              "    </tr>\n",
              "  </thead>\n",
              "  <tbody>\n",
              "    <tr>\n",
              "      <th>0</th>\n",
              "      <td>0.00</td>\n",
              "      <td>0.000</td>\n",
              "      <td>0</td>\n",
              "      <td>2.419</td>\n",
              "      <td>1.225</td>\n",
              "      <td>0.667</td>\n",
              "      <td>0</td>\n",
              "      <td>0</td>\n",
              "      <td>3.740</td>\n",
              "    </tr>\n",
              "    <tr>\n",
              "      <th>1</th>\n",
              "      <td>0.00</td>\n",
              "      <td>0.000</td>\n",
              "      <td>0</td>\n",
              "      <td>2.638</td>\n",
              "      <td>1.401</td>\n",
              "      <td>0.632</td>\n",
              "      <td>0</td>\n",
              "      <td>0</td>\n",
              "      <td>4.330</td>\n",
              "    </tr>\n",
              "    <tr>\n",
              "      <th>2</th>\n",
              "      <td>9.23</td>\n",
              "      <td>11.000</td>\n",
              "      <td>0</td>\n",
              "      <td>5.799</td>\n",
              "      <td>2.930</td>\n",
              "      <td>0.486</td>\n",
              "      <td>0</td>\n",
              "      <td>0</td>\n",
              "      <td>7.019</td>\n",
              "    </tr>\n",
              "    <tr>\n",
              "      <th>3</th>\n",
              "      <td>9.23</td>\n",
              "      <td>11.000</td>\n",
              "      <td>0</td>\n",
              "      <td>5.453</td>\n",
              "      <td>2.887</td>\n",
              "      <td>0.495</td>\n",
              "      <td>0</td>\n",
              "      <td>0</td>\n",
              "      <td>6.723</td>\n",
              "    </tr>\n",
              "    <tr>\n",
              "      <th>4</th>\n",
              "      <td>9.23</td>\n",
              "      <td>11.000</td>\n",
              "      <td>0</td>\n",
              "      <td>4.068</td>\n",
              "      <td>2.758</td>\n",
              "      <td>0.695</td>\n",
              "      <td>0</td>\n",
              "      <td>0</td>\n",
              "      <td>5.979</td>\n",
              "    </tr>\n",
              "    <tr>\n",
              "      <th>...</th>\n",
              "      <td>...</td>\n",
              "      <td>...</td>\n",
              "      <td>...</td>\n",
              "      <td>...</td>\n",
              "      <td>...</td>\n",
              "      <td>...</td>\n",
              "      <td>...</td>\n",
              "      <td>...</td>\n",
              "      <td>...</td>\n",
              "    </tr>\n",
              "    <tr>\n",
              "      <th>541</th>\n",
              "      <td>24.06</td>\n",
              "      <td>35.776</td>\n",
              "      <td>2</td>\n",
              "      <td>3.326</td>\n",
              "      <td>2.837</td>\n",
              "      <td>0.849</td>\n",
              "      <td>2</td>\n",
              "      <td>0</td>\n",
              "      <td>4.651</td>\n",
              "    </tr>\n",
              "    <tr>\n",
              "      <th>542</th>\n",
              "      <td>9.23</td>\n",
              "      <td>11.000</td>\n",
              "      <td>0</td>\n",
              "      <td>3.275</td>\n",
              "      <td>2.727</td>\n",
              "      <td>0.874</td>\n",
              "      <td>0</td>\n",
              "      <td>0</td>\n",
              "      <td>3.953</td>\n",
              "    </tr>\n",
              "    <tr>\n",
              "      <th>543</th>\n",
              "      <td>0.00</td>\n",
              "      <td>0.000</td>\n",
              "      <td>0</td>\n",
              "      <td>5.165</td>\n",
              "      <td>3.111</td>\n",
              "      <td>0.732</td>\n",
              "      <td>0</td>\n",
              "      <td>0</td>\n",
              "      <td>6.219</td>\n",
              "    </tr>\n",
              "    <tr>\n",
              "      <th>544</th>\n",
              "      <td>13.14</td>\n",
              "      <td>9.507</td>\n",
              "      <td>0</td>\n",
              "      <td>2.859</td>\n",
              "      <td>2.614</td>\n",
              "      <td>0.827</td>\n",
              "      <td>0</td>\n",
              "      <td>0</td>\n",
              "      <td>4.995</td>\n",
              "    </tr>\n",
              "    <tr>\n",
              "      <th>545</th>\n",
              "      <td>0.00</td>\n",
              "      <td>0.000</td>\n",
              "      <td>0</td>\n",
              "      <td>2.255</td>\n",
              "      <td>1.800</td>\n",
              "      <td>0.917</td>\n",
              "      <td>0</td>\n",
              "      <td>0</td>\n",
              "      <td>2.480</td>\n",
              "    </tr>\n",
              "  </tbody>\n",
              "</table>\n",
              "<p>546 rows × 9 columns</p>\n",
              "</div>"
            ],
            "text/plain": [
              "      TPSA   SAacc  H-050  MLOGP  ...  GATS1p  nN  C-040  quantitative response\n",
              "0     0.00   0.000      0  2.419  ...   0.667   0      0                  3.740\n",
              "1     0.00   0.000      0  2.638  ...   0.632   0      0                  4.330\n",
              "2     9.23  11.000      0  5.799  ...   0.486   0      0                  7.019\n",
              "3     9.23  11.000      0  5.453  ...   0.495   0      0                  6.723\n",
              "4     9.23  11.000      0  4.068  ...   0.695   0      0                  5.979\n",
              "..     ...     ...    ...    ...  ...     ...  ..    ...                    ...\n",
              "541  24.06  35.776      2  3.326  ...   0.849   2      0                  4.651\n",
              "542   9.23  11.000      0  3.275  ...   0.874   0      0                  3.953\n",
              "543   0.00   0.000      0  5.165  ...   0.732   0      0                  6.219\n",
              "544  13.14   9.507      0  2.859  ...   0.827   0      0                  4.995\n",
              "545   0.00   0.000      0  2.255  ...   0.917   0      0                  2.480\n",
              "\n",
              "[546 rows x 9 columns]"
            ]
          },
          "metadata": {
            "tags": []
          },
          "execution_count": 73
        }
      ]
    },
    {
      "cell_type": "markdown",
      "metadata": {
        "id": "wdWJADpgRNg-",
        "colab_type": "text"
      },
      "source": [
        "**Data information and characteristics**"
      ]
    },
    {
      "cell_type": "code",
      "metadata": {
        "id": "e5mlJ_8VRbxt",
        "colab_type": "code",
        "outputId": "1c933de5-cc46-4e77-a09c-03bead75eadd",
        "colab": {
          "base_uri": "https://localhost:8080/",
          "height": 606
        }
      },
      "source": [
        "data.info()\n",
        "data.describe()"
      ],
      "execution_count": 74,
      "outputs": [
        {
          "output_type": "stream",
          "text": [
            "<class 'pandas.core.frame.DataFrame'>\n",
            "RangeIndex: 546 entries, 0 to 545\n",
            "Data columns (total 9 columns):\n",
            " #   Column                 Non-Null Count  Dtype  \n",
            "---  ------                 --------------  -----  \n",
            " 0   TPSA                   546 non-null    float64\n",
            " 1   SAacc                  546 non-null    float64\n",
            " 2   H-050                  546 non-null    int64  \n",
            " 3   MLOGP                  546 non-null    float64\n",
            " 4   RDCHI                  546 non-null    float64\n",
            " 5   GATS1p                 546 non-null    float64\n",
            " 6   nN                     546 non-null    int64  \n",
            " 7   C-040                  546 non-null    int64  \n",
            " 8   quantitative response  546 non-null    float64\n",
            "dtypes: float64(6), int64(3)\n",
            "memory usage: 38.5 KB\n"
          ],
          "name": "stdout"
        },
        {
          "output_type": "execute_result",
          "data": {
            "text/html": [
              "<div>\n",
              "<style scoped>\n",
              "    .dataframe tbody tr th:only-of-type {\n",
              "        vertical-align: middle;\n",
              "    }\n",
              "\n",
              "    .dataframe tbody tr th {\n",
              "        vertical-align: top;\n",
              "    }\n",
              "\n",
              "    .dataframe thead th {\n",
              "        text-align: right;\n",
              "    }\n",
              "</style>\n",
              "<table border=\"1\" class=\"dataframe\">\n",
              "  <thead>\n",
              "    <tr style=\"text-align: right;\">\n",
              "      <th></th>\n",
              "      <th>TPSA</th>\n",
              "      <th>SAacc</th>\n",
              "      <th>H-050</th>\n",
              "      <th>MLOGP</th>\n",
              "      <th>RDCHI</th>\n",
              "      <th>GATS1p</th>\n",
              "      <th>nN</th>\n",
              "      <th>C-040</th>\n",
              "      <th>quantitative response</th>\n",
              "    </tr>\n",
              "  </thead>\n",
              "  <tbody>\n",
              "    <tr>\n",
              "      <th>count</th>\n",
              "      <td>546.000000</td>\n",
              "      <td>546.000000</td>\n",
              "      <td>546.000000</td>\n",
              "      <td>546.000000</td>\n",
              "      <td>546.000000</td>\n",
              "      <td>546.000000</td>\n",
              "      <td>546.000000</td>\n",
              "      <td>546.000000</td>\n",
              "      <td>546.000000</td>\n",
              "    </tr>\n",
              "    <tr>\n",
              "      <th>mean</th>\n",
              "      <td>48.472930</td>\n",
              "      <td>58.869018</td>\n",
              "      <td>0.937729</td>\n",
              "      <td>2.313493</td>\n",
              "      <td>2.492299</td>\n",
              "      <td>1.046264</td>\n",
              "      <td>1.003663</td>\n",
              "      <td>0.353480</td>\n",
              "      <td>4.658421</td>\n",
              "    </tr>\n",
              "    <tr>\n",
              "      <th>std</th>\n",
              "      <td>46.763983</td>\n",
              "      <td>68.166554</td>\n",
              "      <td>1.618632</td>\n",
              "      <td>1.741797</td>\n",
              "      <td>0.811004</td>\n",
              "      <td>0.403677</td>\n",
              "      <td>1.397240</td>\n",
              "      <td>0.806827</td>\n",
              "      <td>1.665215</td>\n",
              "    </tr>\n",
              "    <tr>\n",
              "      <th>min</th>\n",
              "      <td>0.000000</td>\n",
              "      <td>0.000000</td>\n",
              "      <td>0.000000</td>\n",
              "      <td>-6.446000</td>\n",
              "      <td>1.000000</td>\n",
              "      <td>0.281000</td>\n",
              "      <td>0.000000</td>\n",
              "      <td>0.000000</td>\n",
              "      <td>0.122000</td>\n",
              "    </tr>\n",
              "    <tr>\n",
              "      <th>25%</th>\n",
              "      <td>15.790000</td>\n",
              "      <td>11.000000</td>\n",
              "      <td>0.000000</td>\n",
              "      <td>1.232500</td>\n",
              "      <td>1.975000</td>\n",
              "      <td>0.737000</td>\n",
              "      <td>0.000000</td>\n",
              "      <td>0.000000</td>\n",
              "      <td>3.601500</td>\n",
              "    </tr>\n",
              "    <tr>\n",
              "      <th>50%</th>\n",
              "      <td>40.460000</td>\n",
              "      <td>42.683000</td>\n",
              "      <td>0.000000</td>\n",
              "      <td>2.273500</td>\n",
              "      <td>2.344000</td>\n",
              "      <td>1.020500</td>\n",
              "      <td>1.000000</td>\n",
              "      <td>0.000000</td>\n",
              "      <td>4.516000</td>\n",
              "    </tr>\n",
              "    <tr>\n",
              "      <th>75%</th>\n",
              "      <td>70.022500</td>\n",
              "      <td>77.492750</td>\n",
              "      <td>1.000000</td>\n",
              "      <td>3.392750</td>\n",
              "      <td>2.911000</td>\n",
              "      <td>1.266500</td>\n",
              "      <td>2.000000</td>\n",
              "      <td>0.000000</td>\n",
              "      <td>5.607500</td>\n",
              "    </tr>\n",
              "    <tr>\n",
              "      <th>max</th>\n",
              "      <td>347.320000</td>\n",
              "      <td>571.952000</td>\n",
              "      <td>18.000000</td>\n",
              "      <td>9.148000</td>\n",
              "      <td>6.439000</td>\n",
              "      <td>2.500000</td>\n",
              "      <td>11.000000</td>\n",
              "      <td>11.000000</td>\n",
              "      <td>10.047000</td>\n",
              "    </tr>\n",
              "  </tbody>\n",
              "</table>\n",
              "</div>"
            ],
            "text/plain": [
              "             TPSA       SAacc  ...       C-040  quantitative response\n",
              "count  546.000000  546.000000  ...  546.000000             546.000000\n",
              "mean    48.472930   58.869018  ...    0.353480               4.658421\n",
              "std     46.763983   68.166554  ...    0.806827               1.665215\n",
              "min      0.000000    0.000000  ...    0.000000               0.122000\n",
              "25%     15.790000   11.000000  ...    0.000000               3.601500\n",
              "50%     40.460000   42.683000  ...    0.000000               4.516000\n",
              "75%     70.022500   77.492750  ...    0.000000               5.607500\n",
              "max    347.320000  571.952000  ...   11.000000              10.047000\n",
              "\n",
              "[8 rows x 9 columns]"
            ]
          },
          "metadata": {
            "tags": []
          },
          "execution_count": 74
        }
      ]
    },
    {
      "cell_type": "code",
      "metadata": {
        "id": "3GxrbdBcx1jZ",
        "colab_type": "code",
        "colab": {
          "base_uri": "https://localhost:8080/",
          "height": 579
        },
        "outputId": "fe706934-ff74-4a0b-987e-c050c76e53ff"
      },
      "source": [
        "#Histogram Visualization\n",
        "fig, axs = plt.subplots(2, 4, figsize=(15, 10))\n",
        "axs[0, 0].hist(data['TPSA'])\n",
        "axs[0, 0].set_title('TPSA')\n",
        "\n",
        "axs[0, 1].hist(data['SAacc'])\n",
        "axs[0, 1].set_title('SAacc')\n",
        "\n",
        "axs[0, 2].hist(data['H-050'])\n",
        "axs[0, 2].set_title('H-050')\n",
        "\n",
        "axs[0, 3].hist(data['MLOGP'])\n",
        "axs[0, 3].set_title('MLOGP')\n",
        "\n",
        "axs[1, 0].hist(data['RDCHI'])\n",
        "axs[1, 0].set_title('RDCHI')\n",
        "\n",
        "axs[1, 1].hist(data['nN'])\n",
        "axs[1, 1].set_title('nN')\n",
        "\n",
        "axs[1, 2].hist(data['C-040'])\n",
        "axs[1, 2].set_title('C-040')\n",
        "\n",
        "axs[1, 3].hist(data['quantitative response'])\n",
        "axs[1, 3].set_title('quantitative response')\n",
        "\n",
        "plt.show()"
      ],
      "execution_count": 75,
      "outputs": [
        {
          "output_type": "display_data",
          "data": {
            "image/png": "[encoded data removed]",
            "text/plain": [
              "<Figure size 1080x720 with 8 Axes>"
            ]
          },
          "metadata": {
            "tags": []
          }
        }
      ]
    },
    {
      "cell_type": "markdown",
      "metadata": {
        "id": "poWVa2X_ooeJ",
        "colab_type": "text"
      },
      "source": [
        "Define a function to get the columns that don’t have any missing values"
      ]
    },
    {
      "cell_type": "code",
      "metadata": {
        "id": "XkrJSOZ9o8_R",
        "colab_type": "code",
        "colab": {}
      },
      "source": [
        "def get_cols_with_no_nans(df,col_type):\n",
        "    '''\n",
        "    Arguments :\n",
        "    df : The dataframe to process\n",
        "    col_type : \n",
        "          num : to only get numerical columns with no nans\n",
        "          no_num : to only get nun-numerical columns with no nans\n",
        "          all : to get any columns with no nans    \n",
        "    '''\n",
        "    if (col_type == 'num'):\n",
        "        predictors = df.select_dtypes(exclude=['object'])\n",
        "    elif (col_type == 'no_num'):\n",
        "        predictors = df.select_dtypes(include=['object'])\n",
        "    elif (col_type == 'all'):\n",
        "        predictors = df\n",
        "    else :\n",
        "        print('Error : choose a type (num, no_num, all)')\n",
        "        return 0\n",
        "    cols_with_no_nans = []\n",
        "    for col in predictors.columns:\n",
        "        if not df[col].isnull().any():\n",
        "            cols_with_no_nans.append(col)\n",
        "    return cols_with_no_nans"
      ],
      "execution_count": 0,
      "outputs": []
    },
    {
      "cell_type": "markdown",
      "metadata": {
        "id": "TQNCIoWwosSk",
        "colab_type": "text"
      },
      "source": [
        "Get the columns that do not have any missing values"
      ]
    },
    {
      "cell_type": "code",
      "metadata": {
        "id": "TqBLIStPpASL",
        "colab_type": "code",
        "colab": {}
      },
      "source": [
        "num_cols = get_cols_with_no_nans(data, 'num')\n",
        "cat_cols = get_cols_with_no_nans(data, 'no_num')"
      ],
      "execution_count": 0,
      "outputs": []
    },
    {
      "cell_type": "markdown",
      "metadata": {
        "id": "QEYy3qZOoysc",
        "colab_type": "text"
      },
      "source": [
        "How many column we got"
      ]
    },
    {
      "cell_type": "code",
      "metadata": {
        "id": "nT9HFQyKpH2B",
        "colab_type": "code",
        "colab": {
          "base_uri": "https://localhost:8080/",
          "height": 51
        },
        "outputId": "bbdc880e-cbed-4f97-e0eb-3f713b4e37ee"
      },
      "source": [
        "print ('Number of numerical columns with no nan values :',len(num_cols))\n",
        "print ('Number of nun-numerical columns with no nan values :',len(cat_cols))"
      ],
      "execution_count": 78,
      "outputs": [
        {
          "output_type": "stream",
          "text": [
            "Number of numerical columns with no nan values : 9\n",
            "Number of nun-numerical columns with no nan values : 0\n"
          ],
          "name": "stdout"
        }
      ]
    },
    {
      "cell_type": "code",
      "metadata": {
        "id": "SLRXpcRupKJF",
        "colab_type": "code",
        "colab": {
          "base_uri": "https://localhost:8080/",
          "height": 607
        },
        "outputId": "5dfa1455-d7af-4d34-8dbb-2a1d8b012b98"
      },
      "source": [
        "data = data[num_cols + cat_cols]\n",
        "data.hist(figsize = (12,10))\n",
        "plt.show()"
      ],
      "execution_count": 79,
      "outputs": [
        {
          "output_type": "display_data",
          "data": {
            "image/png": "[encoded data removed]",
            "text/plain": [
              "<Figure size 864x720 with 9 Axes>"
            ]
          },
          "metadata": {
            "tags": []
          }
        }
      ]
    },
    {
      "cell_type": "markdown",
      "metadata": {
        "id": "DIiEaqZs0u35",
        "colab_type": "text"
      },
      "source": [
        "## Split data"
      ]
    },
    {
      "cell_type": "markdown",
      "metadata": {
        "id": "d7sd6quHSM-H",
        "colab_type": "text"
      },
      "source": [
        "70% of data for data training and 30% of data for data testing"
      ]
    },
    {
      "cell_type": "code",
      "metadata": {
        "id": "cY4cXxVs0Ybt",
        "colab_type": "code",
        "outputId": "0a151fc9-3b49-4c14-d520-61540ef7f0ec",
        "colab": {
          "base_uri": "https://localhost:8080/",
          "height": 51
        }
      },
      "source": [
        "x_train, x_test, y_train, y_test = train_test_split(data.drop(axis=0, columns='quantitative response'),\n",
        "                                                   data['quantitative response'],\n",
        "                                                   test_size=0.3)\n",
        "print(\"Train: \", len(x_train))\n",
        "print(\"Test: \", len(x_test))"
      ],
      "execution_count": 80,
      "outputs": [
        {
          "output_type": "stream",
          "text": [
            "Train:  382\n",
            "Test:  164\n"
          ],
          "name": "stdout"
        }
      ]
    },
    {
      "cell_type": "markdown",
      "metadata": {
        "id": "0mcherDs0xmp",
        "colab_type": "text"
      },
      "source": [
        "## Train and test the models"
      ]
    },
    {
      "cell_type": "code",
      "metadata": {
        "id": "G7stB_h60hE1",
        "colab_type": "code",
        "outputId": "8dda9945-04a2-4a0e-f314-fa68d8c69dc5",
        "colab": {
          "base_uri": "https://localhost:8080/",
          "height": 85
        }
      },
      "source": [
        "lnr = LinearRegression()\n",
        "mlp = MLPRegressor()\n",
        "\n",
        "lnr.fit(x_train, y_train)\n",
        "mlp.fit(x_train, y_train)\n",
        "\n",
        "hasil_lnr = lnr.predict(x_test)\n",
        "hasil_mlp = mlp.predict(x_test)\n",
        "\n",
        "print(\"Mead Squared Error Linear Regression : \" ,mean_squared_error(y_test, hasil_lnr))\n",
        "print(\"Mead Squared Error Multilayer Perceptron : \" ,mean_squared_error(y_test, hasil_mlp))"
      ],
      "execution_count": 81,
      "outputs": [
        {
          "output_type": "stream",
          "text": [
            "Mead Squared Error Linear Regression :  1.2153673610613205\n",
            "Mead Squared Error Multilayer Perceptron :  1.3606010584612191\n"
          ],
          "name": "stdout"
        },
        {
          "output_type": "stream",
          "text": [
            "/usr/local/lib/python3.6/dist-packages/sklearn/neural_network/_multilayer_perceptron.py:571: ConvergenceWarning: Stochastic Optimizer: Maximum iterations (200) reached and the optimization hasn't converged yet.\n",
            "  % self.max_iter, ConvergenceWarning)\n"
          ],
          "name": "stderr"
        }
      ]
    },
    {
      "cell_type": "code",
      "metadata": {
        "id": "u6_YPGI50jUQ",
        "colab_type": "code",
        "outputId": "4bcae7e7-6e54-45c4-e7ce-c23e3c793f3c",
        "colab": {
          "base_uri": "https://localhost:8080/",
          "height": 282
        }
      },
      "source": [
        "plt.plot(list(hasil_lnr), label='Linear Regression')\n",
        "plt.plot(list(y_test), label='Actual Value')\n",
        "\n",
        "plt.legend(loc=\"upper right\")"
      ],
      "execution_count": 82,
      "outputs": [
        {
          "output_type": "execute_result",
          "data": {
            "text/plain": [
              "<matplotlib.legend.Legend at 0x7f2a62a92b70>"
            ]
          },
          "metadata": {
            "tags": []
          },
          "execution_count": 82
        },
        {
          "output_type": "display_data",
          "data": {
            "image/png": "[encoded data removed]",
            "text/plain": [
              "<Figure size 432x288 with 1 Axes>"
            ]
          },
          "metadata": {
            "tags": []
          }
        }
      ]
    },
    {
      "cell_type": "code",
      "metadata": {
        "id": "78yexy_P0l-P",
        "colab_type": "code",
        "outputId": "c268a3f2-6997-4d5b-8504-ac22ea990cfe",
        "colab": {
          "base_uri": "https://localhost:8080/",
          "height": 282
        }
      },
      "source": [
        "plt.plot(list(hasil_mlp), label='Multilayer Perceptron')\n",
        "plt.plot(list(y_test), label='Actual Value')\n",
        "\n",
        "plt.legend(loc=\"upper right\")"
      ],
      "execution_count": 83,
      "outputs": [
        {
          "output_type": "execute_result",
          "data": {
            "text/plain": [
              "<matplotlib.legend.Legend at 0x7f2a6308bb38>"
            ]
          },
          "metadata": {
            "tags": []
          },
          "execution_count": 83
        },
        {
          "output_type": "display_data",
          "data": {
            "image/png": "[encoded data removed]",
            "text/plain": [
              "<Figure size 432x288 with 1 Axes>"
            ]
          },
          "metadata": {
            "tags": []
          }
        }
      ]
    },
    {
      "cell_type": "markdown",
      "metadata": {
        "id": "tVXfLCQm09BF",
        "colab_type": "text"
      },
      "source": [
        "<h2>TENSORFLOW PART</h2>"
      ]
    },
    {
      "cell_type": "code",
      "metadata": {
        "id": "4yBcUTBP0oE_",
        "colab_type": "code",
        "colab": {}
      },
      "source": [
        "%tensorflow_version 2.x\n",
        "from tensorflow.keras import Sequential, layers, optimizers"
      ],
      "execution_count": 0,
      "outputs": []
    },
    {
      "cell_type": "markdown",
      "metadata": {
        "id": "2v2wOi-Q36kk",
        "colab_type": "text"
      },
      "source": [
        "## Modeling"
      ]
    },
    {
      "cell_type": "markdown",
      "metadata": {
        "id": "XnyITsRptZ0m",
        "colab_type": "text"
      },
      "source": [
        "Consists of :\n",
        "8 nodes in the input layer\n",
        "8 nodes in hidden layers 1 and 2 along with the activation function used is ReLU also 1 node in the output because this case is regression"
      ]
    },
    {
      "cell_type": "code",
      "metadata": {
        "id": "qupqv7bn1SPz",
        "colab_type": "code",
        "colab": {}
      },
      "source": [
        "def Simple_NN():\n",
        "  model = Sequential([\n",
        "    layers.Dense(8, activation='relu', input_shape=[8]),\n",
        "    layers.Dense(8, activation='relu'),\n",
        "    layers.Dense(1)\n",
        "  ])\n",
        "\n",
        "  optimizer = optimizers.RMSprop(0.001)\n",
        "\n",
        "  model.compile(loss='mse',\n",
        "                optimizer=optimizer,\n",
        "                metrics=['mae', 'mse'])\n",
        "  return model"
      ],
      "execution_count": 0,
      "outputs": []
    },
    {
      "cell_type": "code",
      "metadata": {
        "id": "MxzBbneL1cHn",
        "colab_type": "code",
        "outputId": "9ade07d2-91ec-4b88-9818-d99089448995",
        "colab": {
          "base_uri": "https://localhost:8080/",
          "height": 255
        }
      },
      "source": [
        "model = Simple_NN()\n",
        "model.summary()"
      ],
      "execution_count": 86,
      "outputs": [
        {
          "output_type": "stream",
          "text": [
            "Model: \"sequential_2\"\n",
            "_________________________________________________________________\n",
            "Layer (type)                 Output Shape              Param #   \n",
            "=================================================================\n",
            "dense_6 (Dense)              (None, 8)                 72        \n",
            "_________________________________________________________________\n",
            "dense_7 (Dense)              (None, 8)                 72        \n",
            "_________________________________________________________________\n",
            "dense_8 (Dense)              (None, 1)                 9         \n",
            "=================================================================\n",
            "Total params: 153\n",
            "Trainable params: 153\n",
            "Non-trainable params: 0\n",
            "_________________________________________________________________\n"
          ],
          "name": "stdout"
        }
      ]
    },
    {
      "cell_type": "markdown",
      "metadata": {
        "id": "ZdyYRX8b4bf1",
        "colab_type": "text"
      },
      "source": [
        "## Training model"
      ]
    },
    {
      "cell_type": "code",
      "metadata": {
        "id": "7rw60V7W1mfN",
        "colab_type": "code",
        "outputId": "88a5a812-10e5-4a5e-f935-7514e8f42ee7",
        "colab": {
          "base_uri": "https://localhost:8080/",
          "height": 1000
        }
      },
      "source": [
        "model.fit(x_train, y_train, epochs=100, validation_split = 0.2, verbose=1)"
      ],
      "execution_count": 87,
      "outputs": [
        {
          "output_type": "stream",
          "text": [
            "Epoch 1/100\n",
            "10/10 [==============================] - 0s 18ms/step - loss: 61.6781 - mae: 5.2223 - mse: 63.2926 - val_loss: 23.8351 - val_mae: 4.3222 - val_mse: 25.5011\n",
            "Epoch 2/100\n",
            "10/10 [==============================] - 0s 7ms/step - loss: 23.1615 - mae: 3.9148 - mse: 23.4601 - val_loss: 23.7939 - val_mae: 4.3175 - val_mse: 25.8743\n",
            "Epoch 3/100\n",
            "10/10 [==============================] - 0s 8ms/step - loss: 21.2271 - mae: 3.7610 - mse: 21.3394 - val_loss: 23.2258 - val_mae: 4.2041 - val_mse: 25.5512\n",
            "Epoch 4/100\n",
            "10/10 [==============================] - 0s 7ms/step - loss: 19.6617 - mae: 3.6164 - mse: 19.8852 - val_loss: 20.9824 - val_mae: 3.9444 - val_mse: 23.3020\n",
            "Epoch 5/100\n",
            "10/10 [==============================] - 0s 7ms/step - loss: 18.2128 - mae: 3.4714 - mse: 18.3308 - val_loss: 22.7280 - val_mae: 4.1517 - val_mse: 25.2934\n",
            "Epoch 6/100\n",
            "10/10 [==============================] - 0s 8ms/step - loss: 17.4010 - mae: 3.3389 - mse: 17.4315 - val_loss: 19.0161 - val_mae: 3.7165 - val_mse: 21.3472\n",
            "Epoch 7/100\n",
            "10/10 [==============================] - 0s 7ms/step - loss: 16.6451 - mae: 3.2630 - mse: 16.4754 - val_loss: 19.2247 - val_mae: 3.7727 - val_mse: 21.5933\n",
            "Epoch 8/100\n",
            "10/10 [==============================] - 0s 8ms/step - loss: 15.1488 - mae: 3.0975 - mse: 14.7877 - val_loss: 25.7024 - val_mae: 4.5580 - val_mse: 28.4897\n",
            "Epoch 9/100\n",
            "10/10 [==============================] - 0s 7ms/step - loss: 14.5529 - mae: 3.0818 - mse: 14.6748 - val_loss: 14.7055 - val_mae: 3.2433 - val_mse: 16.6287\n",
            "Epoch 10/100\n",
            "10/10 [==============================] - 0s 7ms/step - loss: 14.2218 - mae: 2.9460 - mse: 14.2475 - val_loss: 13.9974 - val_mae: 3.1566 - val_mse: 15.8795\n",
            "Epoch 11/100\n",
            "10/10 [==============================] - 0s 8ms/step - loss: 12.7944 - mae: 2.7866 - mse: 12.6527 - val_loss: 15.5694 - val_mae: 3.4056 - val_mse: 17.6400\n",
            "Epoch 12/100\n",
            "10/10 [==============================] - 0s 7ms/step - loss: 11.6094 - mae: 2.6467 - mse: 11.5725 - val_loss: 13.2679 - val_mae: 3.0858 - val_mse: 15.0971\n",
            "Epoch 13/100\n",
            "10/10 [==============================] - 0s 7ms/step - loss: 11.8166 - mae: 2.6809 - mse: 11.9869 - val_loss: 13.9547 - val_mae: 3.2261 - val_mse: 15.8855\n",
            "Epoch 14/100\n",
            "10/10 [==============================] - 0s 7ms/step - loss: 11.1872 - mae: 2.4760 - mse: 10.3539 - val_loss: 13.3993 - val_mae: 3.0974 - val_mse: 15.4506\n",
            "Epoch 15/100\n",
            "10/10 [==============================] - 0s 8ms/step - loss: 9.4036 - mae: 2.4058 - mse: 9.4940 - val_loss: 11.0289 - val_mae: 2.7426 - val_mse: 12.7710\n",
            "Epoch 16/100\n",
            "10/10 [==============================] - 0s 7ms/step - loss: 8.7770 - mae: 2.3030 - mse: 8.8909 - val_loss: 8.9706 - val_mae: 2.4542 - val_mse: 10.3317\n",
            "Epoch 17/100\n",
            "10/10 [==============================] - 0s 7ms/step - loss: 8.3509 - mae: 2.2159 - mse: 8.4648 - val_loss: 8.7106 - val_mae: 2.4011 - val_mse: 10.1233\n",
            "Epoch 18/100\n",
            "10/10 [==============================] - 0s 9ms/step - loss: 8.4736 - mae: 2.2459 - mse: 8.5965 - val_loss: 8.0526 - val_mae: 2.2953 - val_mse: 9.3882\n",
            "Epoch 19/100\n",
            "10/10 [==============================] - 0s 7ms/step - loss: 7.2844 - mae: 2.0176 - mse: 7.1678 - val_loss: 7.2346 - val_mae: 2.1812 - val_mse: 8.3667\n",
            "Epoch 20/100\n",
            "10/10 [==============================] - 0s 8ms/step - loss: 7.6769 - mae: 2.0541 - mse: 7.7698 - val_loss: 8.5336 - val_mae: 2.3872 - val_mse: 9.9947\n",
            "Epoch 21/100\n",
            "10/10 [==============================] - 0s 8ms/step - loss: 6.6084 - mae: 1.8671 - mse: 6.4592 - val_loss: 6.3880 - val_mae: 2.0181 - val_mse: 7.4575\n",
            "Epoch 22/100\n",
            "10/10 [==============================] - 0s 7ms/step - loss: 6.9274 - mae: 1.8141 - mse: 6.3058 - val_loss: 8.2005 - val_mae: 2.3421 - val_mse: 9.6144\n",
            "Epoch 23/100\n",
            "10/10 [==============================] - 0s 7ms/step - loss: 6.4068 - mae: 1.8478 - mse: 6.4529 - val_loss: 6.3618 - val_mae: 1.9812 - val_mse: 7.5110\n",
            "Epoch 24/100\n",
            "10/10 [==============================] - 0s 7ms/step - loss: 6.0434 - mae: 1.8170 - mse: 6.1416 - val_loss: 5.5296 - val_mae: 1.8157 - val_mse: 6.5290\n",
            "Epoch 25/100\n",
            "10/10 [==============================] - 0s 7ms/step - loss: 5.3345 - mae: 1.6445 - mse: 5.1818 - val_loss: 6.5976 - val_mae: 2.0748 - val_mse: 7.7088\n",
            "Epoch 26/100\n",
            "10/10 [==============================] - 0s 7ms/step - loss: 5.4701 - mae: 1.7367 - mse: 5.4843 - val_loss: 4.7533 - val_mae: 1.6945 - val_mse: 5.5533\n",
            "Epoch 27/100\n",
            "10/10 [==============================] - 0s 8ms/step - loss: 5.1889 - mae: 1.6217 - mse: 5.2119 - val_loss: 6.7103 - val_mae: 2.1189 - val_mse: 7.7517\n",
            "Epoch 28/100\n",
            "10/10 [==============================] - 0s 7ms/step - loss: 4.9539 - mae: 1.5555 - mse: 4.8573 - val_loss: 5.0185 - val_mae: 1.7398 - val_mse: 5.8896\n",
            "Epoch 29/100\n",
            "10/10 [==============================] - 0s 7ms/step - loss: 4.3843 - mae: 1.4501 - mse: 4.4431 - val_loss: 4.8544 - val_mae: 1.6741 - val_mse: 5.7280\n",
            "Epoch 30/100\n",
            "10/10 [==============================] - 0s 8ms/step - loss: 3.8938 - mae: 1.4160 - mse: 4.0229 - val_loss: 4.2878 - val_mae: 1.5906 - val_mse: 4.9843\n",
            "Epoch 31/100\n",
            "10/10 [==============================] - 0s 7ms/step - loss: 5.0909 - mae: 1.5915 - mse: 5.0164 - val_loss: 3.6555 - val_mae: 1.4635 - val_mse: 4.1912\n",
            "Epoch 32/100\n",
            "10/10 [==============================] - 0s 7ms/step - loss: 4.0926 - mae: 1.4564 - mse: 4.1918 - val_loss: 4.4111 - val_mae: 1.6463 - val_mse: 5.0698\n",
            "Epoch 33/100\n",
            "10/10 [==============================] - 0s 7ms/step - loss: 3.5594 - mae: 1.3579 - mse: 3.5932 - val_loss: 4.1546 - val_mae: 1.5740 - val_mse: 4.8068\n",
            "Epoch 34/100\n",
            "10/10 [==============================] - 0s 7ms/step - loss: 4.1997 - mae: 1.4544 - mse: 4.2098 - val_loss: 3.6623 - val_mae: 1.4866 - val_mse: 3.9877\n",
            "Epoch 35/100\n",
            "10/10 [==============================] - 0s 7ms/step - loss: 4.4272 - mae: 1.4909 - mse: 4.4974 - val_loss: 3.6869 - val_mae: 1.4765 - val_mse: 4.2439\n",
            "Epoch 36/100\n",
            "10/10 [==============================] - 0s 8ms/step - loss: 3.4551 - mae: 1.3426 - mse: 3.4734 - val_loss: 3.7381 - val_mae: 1.5051 - val_mse: 4.2835\n",
            "Epoch 37/100\n",
            "10/10 [==============================] - 0s 7ms/step - loss: 3.9084 - mae: 1.3312 - mse: 3.6343 - val_loss: 5.2578 - val_mae: 1.7794 - val_mse: 5.3641\n",
            "Epoch 38/100\n",
            "10/10 [==============================] - 0s 7ms/step - loss: 4.1653 - mae: 1.3826 - mse: 4.1944 - val_loss: 2.9181 - val_mae: 1.3031 - val_mse: 3.3050\n",
            "Epoch 39/100\n",
            "10/10 [==============================] - 0s 7ms/step - loss: 3.1035 - mae: 1.2640 - mse: 3.2072 - val_loss: 2.8416 - val_mae: 1.3306 - val_mse: 3.0751\n",
            "Epoch 40/100\n",
            "10/10 [==============================] - 0s 8ms/step - loss: 3.1273 - mae: 1.2454 - mse: 3.1147 - val_loss: 3.3084 - val_mae: 1.4335 - val_mse: 3.4718\n",
            "Epoch 41/100\n",
            "10/10 [==============================] - 0s 7ms/step - loss: 4.2551 - mae: 1.4306 - mse: 4.3754 - val_loss: 2.6002 - val_mae: 1.2600 - val_mse: 2.8811\n",
            "Epoch 42/100\n",
            "10/10 [==============================] - 0s 8ms/step - loss: 3.1975 - mae: 1.2671 - mse: 3.2358 - val_loss: 2.9575 - val_mae: 1.3468 - val_mse: 3.3186\n",
            "Epoch 43/100\n",
            "10/10 [==============================] - 0s 7ms/step - loss: 2.9467 - mae: 1.2283 - mse: 2.9143 - val_loss: 2.4949 - val_mae: 1.2300 - val_mse: 2.7735\n",
            "Epoch 44/100\n",
            "10/10 [==============================] - 0s 7ms/step - loss: 3.5094 - mae: 1.3222 - mse: 3.5592 - val_loss: 3.6762 - val_mae: 1.5337 - val_mse: 4.0785\n",
            "Epoch 45/100\n",
            "10/10 [==============================] - 0s 7ms/step - loss: 3.5869 - mae: 1.3075 - mse: 3.6452 - val_loss: 2.5020 - val_mae: 1.2270 - val_mse: 2.7707\n",
            "Epoch 46/100\n",
            "10/10 [==============================] - 0s 8ms/step - loss: 2.8002 - mae: 1.2206 - mse: 2.8458 - val_loss: 2.5126 - val_mae: 1.2498 - val_mse: 2.7593\n",
            "Epoch 47/100\n",
            "10/10 [==============================] - 0s 7ms/step - loss: 3.1748 - mae: 1.2348 - mse: 3.0059 - val_loss: 2.3124 - val_mae: 1.1850 - val_mse: 2.5296\n",
            "Epoch 48/100\n",
            "10/10 [==============================] - 0s 7ms/step - loss: 3.3781 - mae: 1.2851 - mse: 3.3220 - val_loss: 2.1873 - val_mae: 1.1596 - val_mse: 2.3962\n",
            "Epoch 49/100\n",
            "10/10 [==============================] - 0s 7ms/step - loss: 2.5110 - mae: 1.1622 - mse: 2.5732 - val_loss: 2.1001 - val_mae: 1.1653 - val_mse: 2.2554\n",
            "Epoch 50/100\n",
            "10/10 [==============================] - 0s 7ms/step - loss: 2.7107 - mae: 1.1817 - mse: 2.7478 - val_loss: 2.6569 - val_mae: 1.3174 - val_mse: 2.7116\n",
            "Epoch 51/100\n",
            "10/10 [==============================] - 0s 7ms/step - loss: 4.1960 - mae: 1.3935 - mse: 4.3489 - val_loss: 2.2914 - val_mae: 1.1891 - val_mse: 2.5017\n",
            "Epoch 52/100\n",
            "10/10 [==============================] - 0s 8ms/step - loss: 2.3707 - mae: 1.1187 - mse: 2.3992 - val_loss: 2.5381 - val_mae: 1.2529 - val_mse: 2.7866\n",
            "Epoch 53/100\n",
            "10/10 [==============================] - 0s 7ms/step - loss: 3.0207 - mae: 1.2516 - mse: 3.0972 - val_loss: 2.0116 - val_mae: 1.1323 - val_mse: 2.1595\n",
            "Epoch 54/100\n",
            "10/10 [==============================] - 0s 8ms/step - loss: 2.9975 - mae: 1.2155 - mse: 3.0809 - val_loss: 2.0033 - val_mae: 1.1171 - val_mse: 2.1653\n",
            "Epoch 55/100\n",
            "10/10 [==============================] - 0s 8ms/step - loss: 2.3633 - mae: 1.1419 - mse: 2.3643 - val_loss: 2.2266 - val_mae: 1.1789 - val_mse: 2.4174\n",
            "Epoch 56/100\n",
            "10/10 [==============================] - 0s 7ms/step - loss: 3.0378 - mae: 1.2534 - mse: 3.0516 - val_loss: 1.8936 - val_mae: 1.1178 - val_mse: 2.0025\n",
            "Epoch 57/100\n",
            "10/10 [==============================] - 0s 7ms/step - loss: 2.7379 - mae: 1.1973 - mse: 2.7923 - val_loss: 1.8755 - val_mae: 1.1145 - val_mse: 1.9716\n",
            "Epoch 58/100\n",
            "10/10 [==============================] - 0s 7ms/step - loss: 3.3189 - mae: 1.2126 - mse: 3.0433 - val_loss: 2.4795 - val_mae: 1.2454 - val_mse: 2.6789\n",
            "Epoch 59/100\n",
            "10/10 [==============================] - 0s 7ms/step - loss: 2.4401 - mae: 1.1195 - mse: 2.4304 - val_loss: 1.9499 - val_mae: 1.1055 - val_mse: 2.0883\n",
            "Epoch 60/100\n",
            "10/10 [==============================] - 0s 7ms/step - loss: 2.5003 - mae: 1.1855 - mse: 2.5252 - val_loss: 1.7845 - val_mae: 1.0973 - val_mse: 1.8743\n",
            "Epoch 61/100\n",
            "10/10 [==============================] - 0s 7ms/step - loss: 2.5372 - mae: 1.1927 - mse: 2.5425 - val_loss: 1.9193 - val_mae: 1.0874 - val_mse: 2.0606\n",
            "Epoch 62/100\n",
            "10/10 [==============================] - 0s 7ms/step - loss: 2.9421 - mae: 1.2457 - mse: 2.9479 - val_loss: 2.3168 - val_mae: 1.2094 - val_mse: 2.4785\n",
            "Epoch 63/100\n",
            "10/10 [==============================] - 0s 7ms/step - loss: 2.4897 - mae: 1.1841 - mse: 2.5035 - val_loss: 1.7680 - val_mae: 1.0673 - val_mse: 1.8653\n",
            "Epoch 64/100\n",
            "10/10 [==============================] - 0s 8ms/step - loss: 2.1295 - mae: 1.0881 - mse: 2.1462 - val_loss: 2.0723 - val_mae: 1.1781 - val_mse: 2.1206\n",
            "Epoch 65/100\n",
            "10/10 [==============================] - 0s 8ms/step - loss: 3.0948 - mae: 1.2842 - mse: 3.1141 - val_loss: 1.8030 - val_mae: 1.1006 - val_mse: 1.8569\n",
            "Epoch 66/100\n",
            "10/10 [==============================] - 0s 8ms/step - loss: 2.5767 - mae: 1.1500 - mse: 2.5546 - val_loss: 2.1545 - val_mae: 1.1934 - val_mse: 2.1813\n",
            "Epoch 67/100\n",
            "10/10 [==============================] - 0s 7ms/step - loss: 2.9392 - mae: 1.2547 - mse: 3.0116 - val_loss: 1.6925 - val_mae: 1.0389 - val_mse: 1.7908\n",
            "Epoch 68/100\n",
            "10/10 [==============================] - 0s 8ms/step - loss: 2.6352 - mae: 1.2244 - mse: 2.7160 - val_loss: 1.6991 - val_mae: 1.0283 - val_mse: 1.8107\n",
            "Epoch 69/100\n",
            "10/10 [==============================] - 0s 7ms/step - loss: 2.2867 - mae: 1.1431 - mse: 2.2458 - val_loss: 1.9978 - val_mae: 1.1207 - val_mse: 2.1176\n",
            "Epoch 70/100\n",
            "10/10 [==============================] - 0s 7ms/step - loss: 2.8663 - mae: 1.2365 - mse: 2.9909 - val_loss: 2.0169 - val_mae: 1.1309 - val_mse: 2.1245\n",
            "Epoch 71/100\n",
            "10/10 [==============================] - 0s 7ms/step - loss: 2.3079 - mae: 1.1154 - mse: 2.3265 - val_loss: 1.7182 - val_mae: 1.0693 - val_mse: 1.7741\n",
            "Epoch 72/100\n",
            "10/10 [==============================] - 0s 7ms/step - loss: 2.5592 - mae: 1.1369 - mse: 2.4958 - val_loss: 1.6987 - val_mae: 1.0226 - val_mse: 1.7941\n",
            "Epoch 73/100\n",
            "10/10 [==============================] - 0s 7ms/step - loss: 2.4835 - mae: 1.1653 - mse: 2.4549 - val_loss: 1.6388 - val_mae: 1.0305 - val_mse: 1.7143\n",
            "Epoch 74/100\n",
            "10/10 [==============================] - 0s 8ms/step - loss: 2.5292 - mae: 1.1499 - mse: 2.4952 - val_loss: 3.8975 - val_mae: 1.5516 - val_mse: 3.8897\n",
            "Epoch 75/100\n",
            "10/10 [==============================] - 0s 7ms/step - loss: 3.3322 - mae: 1.2088 - mse: 3.4478 - val_loss: 1.6433 - val_mae: 1.0132 - val_mse: 1.7425\n",
            "Epoch 76/100\n",
            "10/10 [==============================] - 0s 7ms/step - loss: 2.0170 - mae: 1.0878 - mse: 2.0488 - val_loss: 2.4920 - val_mae: 1.2416 - val_mse: 2.6490\n",
            "Epoch 77/100\n",
            "10/10 [==============================] - 0s 8ms/step - loss: 2.3723 - mae: 1.1349 - mse: 2.3113 - val_loss: 2.7405 - val_mae: 1.2961 - val_mse: 2.9380\n",
            "Epoch 78/100\n",
            "10/10 [==============================] - 0s 7ms/step - loss: 2.7428 - mae: 1.1883 - mse: 2.7754 - val_loss: 1.7803 - val_mae: 1.0416 - val_mse: 1.8952\n",
            "Epoch 79/100\n",
            "10/10 [==============================] - 0s 7ms/step - loss: 2.1249 - mae: 1.0911 - mse: 2.0757 - val_loss: 2.5007 - val_mae: 1.2692 - val_mse: 2.5190\n",
            "Epoch 80/100\n",
            "10/10 [==============================] - 0s 7ms/step - loss: 2.6672 - mae: 1.1776 - mse: 2.5518 - val_loss: 1.9653 - val_mae: 1.1313 - val_mse: 2.0556\n",
            "Epoch 81/100\n",
            "10/10 [==============================] - 0s 7ms/step - loss: 2.2439 - mae: 1.0997 - mse: 2.2858 - val_loss: 1.6014 - val_mae: 1.0369 - val_mse: 1.6644\n",
            "Epoch 82/100\n",
            "10/10 [==============================] - 0s 7ms/step - loss: 2.1336 - mae: 1.1042 - mse: 2.1768 - val_loss: 1.7820 - val_mae: 1.0606 - val_mse: 1.8778\n",
            "Epoch 83/100\n",
            "10/10 [==============================] - 0s 7ms/step - loss: 3.5919 - mae: 1.2815 - mse: 3.7094 - val_loss: 1.8821 - val_mae: 1.0877 - val_mse: 1.9917\n",
            "Epoch 84/100\n",
            "10/10 [==============================] - 0s 8ms/step - loss: 2.2395 - mae: 1.0989 - mse: 2.3017 - val_loss: 1.7005 - val_mae: 1.0325 - val_mse: 1.7934\n",
            "Epoch 85/100\n",
            "10/10 [==============================] - 0s 7ms/step - loss: 1.8908 - mae: 1.0534 - mse: 1.8976 - val_loss: 1.8618 - val_mae: 1.0821 - val_mse: 1.9705\n",
            "Epoch 86/100\n",
            "10/10 [==============================] - 0s 7ms/step - loss: 2.5963 - mae: 1.1542 - mse: 2.6465 - val_loss: 1.8042 - val_mae: 1.0582 - val_mse: 1.9164\n",
            "Epoch 87/100\n",
            "10/10 [==============================] - 0s 7ms/step - loss: 1.9399 - mae: 1.0495 - mse: 1.9479 - val_loss: 1.6162 - val_mae: 1.0447 - val_mse: 1.6741\n",
            "Epoch 88/100\n",
            "10/10 [==============================] - 0s 7ms/step - loss: 2.1373 - mae: 1.0824 - mse: 2.1082 - val_loss: 2.1128 - val_mae: 1.1429 - val_mse: 2.2356\n",
            "Epoch 89/100\n",
            "10/10 [==============================] - 0s 8ms/step - loss: 2.3873 - mae: 1.0882 - mse: 2.1486 - val_loss: 4.6145 - val_mae: 1.6812 - val_mse: 4.8395\n",
            "Epoch 90/100\n",
            "10/10 [==============================] - 0s 7ms/step - loss: 3.1318 - mae: 1.1708 - mse: 3.0541 - val_loss: 1.7121 - val_mae: 1.0798 - val_mse: 1.7732\n",
            "Epoch 91/100\n",
            "10/10 [==============================] - 0s 8ms/step - loss: 2.2553 - mae: 1.1245 - mse: 2.2732 - val_loss: 1.5734 - val_mae: 1.0286 - val_mse: 1.6375\n",
            "Epoch 92/100\n",
            "10/10 [==============================] - 0s 7ms/step - loss: 2.2426 - mae: 1.1275 - mse: 2.2786 - val_loss: 1.5698 - val_mae: 1.0061 - val_mse: 1.6460\n",
            "Epoch 93/100\n",
            "10/10 [==============================] - 0s 8ms/step - loss: 2.4635 - mae: 1.1637 - mse: 2.4466 - val_loss: 1.6102 - val_mae: 1.0220 - val_mse: 1.6820\n",
            "Epoch 94/100\n",
            "10/10 [==============================] - 0s 7ms/step - loss: 2.1172 - mae: 1.1199 - mse: 2.1186 - val_loss: 1.5588 - val_mae: 1.0220 - val_mse: 1.6209\n",
            "Epoch 95/100\n",
            "10/10 [==============================] - 0s 7ms/step - loss: 2.2220 - mae: 1.0972 - mse: 2.1418 - val_loss: 1.9903 - val_mae: 1.1138 - val_mse: 2.1054\n",
            "Epoch 96/100\n",
            "10/10 [==============================] - 0s 7ms/step - loss: 3.1685 - mae: 1.2581 - mse: 3.2101 - val_loss: 1.5588 - val_mae: 1.0064 - val_mse: 1.6385\n",
            "Epoch 97/100\n",
            "10/10 [==============================] - 0s 7ms/step - loss: 2.0194 - mae: 1.0735 - mse: 2.0047 - val_loss: 1.6827 - val_mae: 1.0645 - val_mse: 1.7395\n",
            "Epoch 98/100\n",
            "10/10 [==============================] - 0s 7ms/step - loss: 1.9092 - mae: 1.0536 - mse: 1.9006 - val_loss: 1.5650 - val_mae: 1.0098 - val_mse: 1.6541\n",
            "Epoch 99/100\n",
            "10/10 [==============================] - 0s 7ms/step - loss: 2.3372 - mae: 1.1386 - mse: 2.4017 - val_loss: 1.5859 - val_mae: 1.0098 - val_mse: 1.6664\n",
            "Epoch 100/100\n",
            "10/10 [==============================] - 0s 8ms/step - loss: 2.2281 - mae: 1.0984 - mse: 2.2125 - val_loss: 1.6531 - val_mae: 1.0187 - val_mse: 1.7393\n"
          ],
          "name": "stdout"
        },
        {
          "output_type": "execute_result",
          "data": {
            "text/plain": [
              "<tensorflow.python.keras.callbacks.History at 0x7f2a632f8d30>"
            ]
          },
          "metadata": {
            "tags": []
          },
          "execution_count": 87
        }
      ]
    },
    {
      "cell_type": "markdown",
      "metadata": {
        "id": "7nwNCbyU4hf4",
        "colab_type": "text"
      },
      "source": [
        "## Testing model to predict the <b>x_test</b>"
      ]
    },
    {
      "cell_type": "code",
      "metadata": {
        "id": "tQV3-irl2eGD",
        "colab_type": "code",
        "outputId": "e312bed9-dd48-4cdf-a548-4de735c7b368",
        "colab": {
          "base_uri": "https://localhost:8080/",
          "height": 493
        }
      },
      "source": [
        "hasil_tf = model.predict(x_test)\n",
        "\n",
        "# HASIL PREDIKSI\n",
        "hasil_tf.ravel()"
      ],
      "execution_count": 88,
      "outputs": [
        {
          "output_type": "execute_result",
          "data": {
            "text/plain": [
              "array([5.135836 , 5.2878137, 4.6512876, 4.2004113, 5.4670815, 4.179812 ,\n",
              "       4.2026277, 4.4868703, 3.4341762, 3.8441684, 3.7709377, 4.0886464,\n",
              "       2.503535 , 5.0856276, 4.836491 , 4.1153665, 6.9667153, 5.2581887,\n",
              "       4.599852 , 4.482638 , 2.964024 , 2.7234886, 6.1184945, 5.537432 ,\n",
              "       4.4652786, 6.1967072, 5.076163 , 3.3046548, 1.2897516, 4.4652786,\n",
              "       5.3718667, 4.8112416, 4.812182 , 3.6178834, 2.768813 , 5.0754685,\n",
              "       3.9444072, 5.155165 , 6.3387074, 5.291369 , 2.4788043, 3.687373 ,\n",
              "       7.7038407, 3.460032 , 4.4368234, 3.0083683, 5.1391063, 4.5830216,\n",
              "       4.059736 , 4.4000077, 2.7427814, 3.069907 , 6.091952 , 3.5065792,\n",
              "       4.267016 , 6.4277825, 4.6523232, 4.5951905, 3.782582 , 3.4382885,\n",
              "       3.185725 , 5.143988 , 2.1938827, 7.800238 , 5.146125 , 4.1303806,\n",
              "       2.9880855, 2.9151294, 3.8383873, 4.2181993, 3.0108278, 4.9471574,\n",
              "       4.082581 , 4.927897 , 4.649853 , 3.5298336, 5.022555 , 6.483727 ,\n",
              "       5.957232 , 4.2354507, 3.40536  , 5.5532665, 4.217608 , 3.9437358,\n",
              "       4.31095  , 3.7899253, 6.5730996, 4.8442755, 4.370608 , 3.4449208,\n",
              "       5.231647 , 6.618793 , 4.458874 , 5.242578 , 4.805781 , 3.5312068,\n",
              "       4.7846055, 1.5977045, 3.9227855, 2.54938  , 1.9914461, 5.123301 ,\n",
              "       5.998983 , 6.402022 , 4.267306 , 2.4156826, 6.5464234, 3.364265 ,\n",
              "       4.5772157, 6.63285  , 4.535664 , 4.4340444, 1.5684534, 4.115214 ,\n",
              "       3.2001655, 5.976111 , 4.5617814, 4.408194 , 5.9163632, 7.279696 ,\n",
              "       4.458874 , 4.5422597, 2.1745784, 3.0401676, 1.9728652, 5.2395544,\n",
              "       4.4942503, 5.9706216, 5.5360627, 4.211287 , 4.324978 , 5.1502595,\n",
              "       4.4264894, 7.609946 , 5.295489 , 4.7762475, 4.711272 , 6.4503403,\n",
              "       8.393775 , 6.037352 , 5.857004 , 3.8338077, 4.267737 , 5.5359445,\n",
              "       2.0662792, 5.435885 , 3.7389572, 3.1929157, 4.306617 , 3.6069596,\n",
              "       6.778338 , 5.3880944, 5.309344 , 3.9180305, 2.7205837, 4.7128167,\n",
              "       4.081034 , 3.877229 , 5.0193734, 5.9171667, 3.8938243, 4.70682  ,\n",
              "       4.09987  , 1.7539545], dtype=float32)"
            ]
          },
          "metadata": {
            "tags": []
          },
          "execution_count": 88
        }
      ]
    },
    {
      "cell_type": "markdown",
      "metadata": {
        "id": "Wg98nF9C4veP",
        "colab_type": "text"
      },
      "source": [
        "## Evaluate the model using <b>mean squared error</b>"
      ]
    },
    {
      "cell_type": "markdown",
      "metadata": {
        "id": "bySRKQ1FuprJ",
        "colab_type": "text"
      },
      "source": [
        "Getting smaller the MSE of a model, getting better model in predicting"
      ]
    },
    {
      "cell_type": "code",
      "metadata": {
        "id": "AePLgFIQ22DX",
        "colab_type": "code",
        "outputId": "02fea0cd-926d-4025-875f-7e3ab6ef1979",
        "colab": {
          "base_uri": "https://localhost:8080/",
          "height": 34
        }
      },
      "source": [
        "mean_squared_error(y_test, hasil_tf)"
      ],
      "execution_count": 89,
      "outputs": [
        {
          "output_type": "execute_result",
          "data": {
            "text/plain": [
              "1.4488213228194111"
            ]
          },
          "metadata": {
            "tags": []
          },
          "execution_count": 89
        }
      ]
    },
    {
      "cell_type": "markdown",
      "metadata": {
        "id": "FlpkhTv_5KMs",
        "colab_type": "text"
      },
      "source": [
        "## Data result visualization with line chart"
      ]
    },
    {
      "cell_type": "code",
      "metadata": {
        "id": "d-r3sYsW3hDm",
        "colab_type": "code",
        "outputId": "786a9b8c-b9e4-44ab-ff37-af4ffb08ce99",
        "colab": {
          "base_uri": "https://localhost:8080/",
          "height": 282
        }
      },
      "source": [
        "plt.plot(list(hasil_tf), label='Tensorflow')\n",
        "plt.plot(list(y_test), label='Actual Value')\n",
        "\n",
        "plt.legend(loc=\"upper right\")"
      ],
      "execution_count": 90,
      "outputs": [
        {
          "output_type": "execute_result",
          "data": {
            "text/plain": [
              "<matplotlib.legend.Legend at 0x7f2a62cc4e80>"
            ]
          },
          "metadata": {
            "tags": []
          },
          "execution_count": 90
        },
        {
          "output_type": "display_data",
          "data": {
            "image/png": "[encoded data removed]",
            "text/plain": [
              "<Figure size 432x288 with 1 Axes>"
            ]
          },
          "metadata": {
            "tags": []
          }
        }
      ]
    }
  ]
}